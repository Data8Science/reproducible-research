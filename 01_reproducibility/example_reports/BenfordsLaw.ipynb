{
 "metadata": {
  "name": "",
  "signature": "sha256:166b12c35f4576a6d54b3835c7716546d5091bd074a2be3d20a28184800fc5c8"
 },
 "nbformat": 3,
 "nbformat_minor": 0,
 "worksheets": [
  {
   "cells": [
    {
     "cell_type": "heading",
     "level": 1,
     "metadata": {},
     "source": [
      "Benford's Law and Stripe Transaction Amounts"
     ]
    },
    {
     "cell_type": "markdown",
     "metadata": {},
     "source": [
      "[Benford's Law](http://en.wikipedia.org/wiki/Benford's_law) describes a frequency distribution of first digits found in many real-life data sources. It is often overlooked by fraudsters in detective novels, who generate expenses whose digit distributions are random, and are thus easily exposed as fabricated.\n",
      "\n",
      "In this notebook we'll look at the distribution of first digits of charge amounts across all Stripe charges, and see how it compares to the distribution predicted by Benford's Law.\n",
      "\n",
      "First, we'll have to do a bit of boilerplate to get the notebook set up..."
     ]
    },
    {
     "cell_type": "code",
     "collapsed": false,
     "input": [
      "%matplotlib inline"
     ],
     "language": "python",
     "metadata": {},
     "outputs": [],
     "prompt_number": 1
    },
    {
     "cell_type": "code",
     "collapsed": false,
     "input": [
      "# standard path wrangling to make notebook reproducible in dev and prod\n",
      "import sys\n",
      "from os.path import dirname, abspath\n",
      "from os import getcwd\n",
      "try:\n",
      "    root = dirname(dirname(abspath(__file__)))\n",
      "except NameError:\n",
      "    root = dirname(getcwd())\n",
      "sys.path.append(root)\n",
      "from lib import auto_impala"
     ],
     "language": "python",
     "metadata": {},
     "outputs": [],
     "prompt_number": 2
    },
    {
     "cell_type": "code",
     "collapsed": false,
     "input": [
      "# imports specific to this notebook\n",
      "from impala.util import as_pandas\n",
      "import brewer2mpl\n",
      "import math\n",
      "from scipy.stats import chisquare\n",
      "import pandas as pd\n",
      "import brewer2mpl\n",
      "\n",
      "import lib.display_utils"
     ],
     "language": "python",
     "metadata": {},
     "outputs": [],
     "prompt_number": 3
    },
    {
     "cell_type": "heading",
     "level": 3,
     "metadata": {},
     "source": [
      "True Digit Distribution"
     ]
    },
    {
     "cell_type": "markdown",
     "metadata": {},
     "source": [
      "We can now query Impala to get the first digits of all real charges. We use helpers from [Impyla](https://github.com/cloudera/impyla) to load these results directly into a pandas dataframe.\n",
      "\n",
      "Note, this helper around defining the query just lets us syntax-highlight it for readability - passing in your query as a string will work as well"
     ]
    },
    {
     "cell_type": "code",
     "collapsed": false,
     "input": [
      "query = lib.display_utils.sql_query_from_file('examples/first_digits.sql')\n",
      "query"
     ],
     "language": "python",
     "metadata": {},
     "outputs": [
      {
       "html": [
        "<style>\n",
        ".hll { background-color: #ffffcc }\n",
        ".c { color: #408080; font-style: italic } /* Comment */\n",
        ".err { border: 1px solid #FF0000 } /* Error */\n",
        ".k { color: #008000; font-weight: bold } /* Keyword */\n",
        ".o { color: #666666 } /* Operator */\n",
        ".cm { color: #408080; font-style: italic } /* Comment.Multiline */\n",
        ".cp { color: #BC7A00 } /* Comment.Preproc */\n",
        ".c1 { color: #408080; font-style: italic } /* Comment.Single */\n",
        ".cs { color: #408080; font-style: italic } /* Comment.Special */\n",
        ".gd { color: #A00000 } /* Generic.Deleted */\n",
        ".ge { font-style: italic } /* Generic.Emph */\n",
        ".gr { color: #FF0000 } /* Generic.Error */\n",
        ".gh { color: #000080; font-weight: bold } /* Generic.Heading */\n",
        ".gi { color: #00A000 } /* Generic.Inserted */\n",
        ".go { color: #888888 } /* Generic.Output */\n",
        ".gp { color: #000080; font-weight: bold } /* Generic.Prompt */\n",
        ".gs { font-weight: bold } /* Generic.Strong */\n",
        ".gu { color: #800080; font-weight: bold } /* Generic.Subheading */\n",
        ".gt { color: #0044DD } /* Generic.Traceback */\n",
        ".kc { color: #008000; font-weight: bold } /* Keyword.Constant */\n",
        ".kd { color: #008000; font-weight: bold } /* Keyword.Declaration */\n",
        ".kn { color: #008000; font-weight: bold } /* Keyword.Namespace */\n",
        ".kp { color: #008000 } /* Keyword.Pseudo */\n",
        ".kr { color: #008000; font-weight: bold } /* Keyword.Reserved */\n",
        ".kt { color: #B00040 } /* Keyword.Type */\n",
        ".m { color: #666666 } /* Literal.Number */\n",
        ".s { color: #BA2121 } /* Literal.String */\n",
        ".na { color: #7D9029 } /* Name.Attribute */\n",
        ".nb { color: #008000 } /* Name.Builtin */\n",
        ".nc { color: #0000FF; font-weight: bold } /* Name.Class */\n",
        ".no { color: #880000 } /* Name.Constant */\n",
        ".nd { color: #AA22FF } /* Name.Decorator */\n",
        ".ni { color: #999999; font-weight: bold } /* Name.Entity */\n",
        ".ne { color: #D2413A; font-weight: bold } /* Name.Exception */\n",
        ".nf { color: #0000FF } /* Name.Function */\n",
        ".nl { color: #A0A000 } /* Name.Label */\n",
        ".nn { color: #0000FF; font-weight: bold } /* Name.Namespace */\n",
        ".nt { color: #008000; font-weight: bold } /* Name.Tag */\n",
        ".nv { color: #19177C } /* Name.Variable */\n",
        ".ow { color: #AA22FF; font-weight: bold } /* Operator.Word */\n",
        ".w { color: #bbbbbb } /* Text.Whitespace */\n",
        ".mf { color: #666666 } /* Literal.Number.Float */\n",
        ".mh { color: #666666 } /* Literal.Number.Hex */\n",
        ".mi { color: #666666 } /* Literal.Number.Integer */\n",
        ".mo { color: #666666 } /* Literal.Number.Oct */\n",
        ".sb { color: #BA2121 } /* Literal.String.Backtick */\n",
        ".sc { color: #BA2121 } /* Literal.String.Char */\n",
        ".sd { color: #BA2121; font-style: italic } /* Literal.String.Doc */\n",
        ".s2 { color: #BA2121 } /* Literal.String.Double */\n",
        ".se { color: #BB6622; font-weight: bold } /* Literal.String.Escape */\n",
        ".sh { color: #BA2121 } /* Literal.String.Heredoc */\n",
        ".si { color: #BB6688; font-weight: bold } /* Literal.String.Interpol */\n",
        ".sx { color: #008000 } /* Literal.String.Other */\n",
        ".sr { color: #BB6688 } /* Literal.String.Regex */\n",
        ".s1 { color: #BA2121 } /* Literal.String.Single */\n",
        ".ss { color: #19177C } /* Literal.String.Symbol */\n",
        ".bp { color: #008000 } /* Name.Builtin.Pseudo */\n",
        ".vc { color: #19177C } /* Name.Variable.Class */\n",
        ".vg { color: #19177C } /* Name.Variable.Global */\n",
        ".vi { color: #19177C } /* Name.Variable.Instance */\n",
        ".il { color: #666666 } /* Literal.Number.Integer.Long */\n",
        "</style>\n",
        "<div class=\"highlight\"><pre><span class=\"k\">SELECT</span>\n",
        "    <span class=\"n\">quotient</span><span class=\"p\">(</span><span class=\"n\">presentment__amount</span><span class=\"p\">,</span> <span class=\"n\">pow</span><span class=\"p\">(</span><span class=\"mi\">10</span><span class=\"p\">,</span> <span class=\"n\">floor</span><span class=\"p\">(</span><span class=\"n\">log10</span><span class=\"p\">(</span><span class=\"n\">presentment__amount</span><span class=\"p\">))))</span> <span class=\"k\">AS</span> <span class=\"ss\">&quot;First Digit&quot;</span><span class=\"p\">,</span>\n",
        "    <span class=\"k\">count</span><span class=\"p\">(</span><span class=\"o\">*</span><span class=\"p\">)</span> <span class=\"k\">as</span> <span class=\"ss\">&quot;Count&quot;</span>\n",
        "<span class=\"k\">FROM</span> <span class=\"n\">denormalized</span><span class=\"p\">.</span><span class=\"n\">charges</span>\n",
        "<span class=\"k\">WHERE</span> <span class=\"n\">is_live_sale</span>\n",
        "<span class=\"k\">GROUP</span> <span class=\"k\">BY</span> <span class=\"mi\">1</span>\n",
        "</pre></div>\n",
        "\n"
       ],
       "metadata": {},
       "output_type": "pyout",
       "prompt_number": 5,
       "text": [
        "'SELECT\\n    quotient(presentment__amount, pow(10, floor(log10(presentment__amount)))) AS \"First Digit\",\\n    count(*) as \"Count\"\\nFROM denormalized.charges\\nWHERE is_live_sale\\nGROUP BY 1\\n'"
       ]
      }
     ],
     "prompt_number": 4
    },
    {
     "cell_type": "code",
     "collapsed": false,
     "input": [
      "with auto_impala() as cursor:\n",
      "    cursor.execute(query)\n",
      "    df = as_pandas(cursor)\n",
      "\n",
      "# Clean up the dataframe a bit\n",
      "df = df.dropna().sort('first digit').set_index('first digit')"
     ],
     "language": "python",
     "metadata": {},
     "outputs": [],
     "prompt_number": 5
    },
    {
     "cell_type": "heading",
     "level": 3,
     "metadata": {},
     "source": [
      "Benford's Law Distribution"
     ]
    },
    {
     "cell_type": "markdown",
     "metadata": {},
     "source": [
      "Now that we have the distribution of first digits across Stripe transactions, we'll want to calculate the distribution predicted by Benford's Law\n",
      "\n",
      "Wikipedia describes the digit distribution of Benford's Law like so:\n",
      "![eqn](http://upload.wikimedia.org/math/3/4/d/34d0fcf2949bece6086caa479c22d611.png)\n",
      "\n",
      "We can implement this as a function of the digit:"
     ]
    },
    {
     "cell_type": "code",
     "collapsed": false,
     "input": [
      "def benfordp(digit):\n",
      "    return math.log10(1. + (1./digit))"
     ],
     "language": "python",
     "metadata": {},
     "outputs": [],
     "prompt_number": 6
    },
    {
     "cell_type": "code",
     "collapsed": false,
     "input": [
      "scaled_df = df / df.sum()[0]\n",
      "scaled_df.rename(columns={'count': 'True Rate'}, inplace=True)\n",
      "\n",
      "benford_series = pd.Series(map(benfordp, scaled_df.index), index=scaled_df.index)\n",
      "benford_df = pd.DataFrame(benford_series, columns=['Benford Rate'])\n"
     ],
     "language": "python",
     "metadata": {},
     "outputs": [],
     "prompt_number": 10
    },
    {
     "cell_type": "heading",
     "level": 3,
     "metadata": {},
     "source": [
      "Putting It Together"
     ]
    },
    {
     "cell_type": "markdown",
     "metadata": {},
     "source": [
      "We'll create a new dataframe with the true rate alongside the rates that Benford's Law predicts. The notebook gives us a nice formatted display of this dataframe too."
     ]
    },
    {
     "cell_type": "code",
     "collapsed": false,
     "input": [
      "joined_df = pd.concat([benford_df, scaled_df], axis=1)\n",
      "joined_df"
     ],
     "language": "python",
     "metadata": {},
     "outputs": [
      {
       "html": [
        "<div style=\"max-height:1000px;max-width:1500px;overflow:auto;\">\n",
        "<table border=\"1\" class=\"dataframe\">\n",
        "  <thead>\n",
        "    <tr style=\"text-align: right;\">\n",
        "      <th></th>\n",
        "      <th>Benford Rate</th>\n",
        "      <th>True Rate</th>\n",
        "    </tr>\n",
        "    <tr>\n",
        "      <th>first digit</th>\n",
        "      <th></th>\n",
        "      <th></th>\n",
        "    </tr>\n",
        "  </thead>\n",
        "  <tbody>\n",
        "    <tr>\n",
        "      <th>1</th>\n",
        "      <td> 0.301030</td>\n",
        "      <td> 0.305680</td>\n",
        "    </tr>\n",
        "    <tr>\n",
        "      <th>2</th>\n",
        "      <td> 0.176091</td>\n",
        "      <td> 0.176187</td>\n",
        "    </tr>\n",
        "    <tr>\n",
        "      <th>3</th>\n",
        "      <td> 0.124939</td>\n",
        "      <td> 0.105398</td>\n",
        "    </tr>\n",
        "    <tr>\n",
        "      <th>4</th>\n",
        "      <td> 0.096910</td>\n",
        "      <td> 0.091885</td>\n",
        "    </tr>\n",
        "    <tr>\n",
        "      <th>5</th>\n",
        "      <td> 0.079181</td>\n",
        "      <td> 0.110171</td>\n",
        "    </tr>\n",
        "    <tr>\n",
        "      <th>6</th>\n",
        "      <td> 0.066947</td>\n",
        "      <td> 0.054765</td>\n",
        "    </tr>\n",
        "    <tr>\n",
        "      <th>7</th>\n",
        "      <td> 0.057992</td>\n",
        "      <td> 0.046189</td>\n",
        "    </tr>\n",
        "    <tr>\n",
        "      <th>8</th>\n",
        "      <td> 0.051153</td>\n",
        "      <td> 0.036322</td>\n",
        "    </tr>\n",
        "    <tr>\n",
        "      <th>9</th>\n",
        "      <td> 0.045757</td>\n",
        "      <td> 0.073403</td>\n",
        "    </tr>\n",
        "  </tbody>\n",
        "</table>\n",
        "<p>9 rows \u00d7 2 columns</p>\n",
        "</div>"
       ],
       "metadata": {},
       "output_type": "pyout",
       "prompt_number": 9,
       "text": [
        "             Benford Rate  True Rate\n",
        "first digit                         \n",
        "1                0.301030   0.305680\n",
        "2                0.176091   0.176187\n",
        "3                0.124939   0.105398\n",
        "4                0.096910   0.091885\n",
        "5                0.079181   0.110171\n",
        "6                0.066947   0.054765\n",
        "7                0.057992   0.046189\n",
        "8                0.051153   0.036322\n",
        "9                0.045757   0.073403\n",
        "\n",
        "[9 rows x 2 columns]"
       ]
      }
     ],
     "prompt_number": 11
    },
    {
     "cell_type": "markdown",
     "metadata": {},
     "source": [
      "I'm told that Jeff Bezos has an uncanny ability to look at a wall of numbers and spot a trend. For the rest of us, it's more useful to plot the results. Dataframe objects have a `plot` method that does the right thing"
     ]
    },
    {
     "cell_type": "code",
     "collapsed": false,
     "input": [
      "colors = brewer2mpl.wesanderson.Moonrise1.mpl_colors # oh yeah\n",
      "\n",
      "joined_df.plot(kind='bar', figsize=(14,10), title=\"Charge 1st Digits vs Benford's Law\", color=colors)"
     ],
     "language": "python",
     "metadata": {},
     "outputs": [
      {
       "metadata": {},
       "output_type": "pyout",
       "prompt_number": 10,
       "text": [
        "<matplotlib.axes.AxesSubplot at 0x59b8cd0>"
       ]
      },
      {
       "metadata": {},
       "output_type": "display_data",
       "png": "[encoded data removed]",
       "text": [
        "<matplotlib.figure.Figure at 0x59b8810>"
       ]
      }
     ],
     "prompt_number": 8
    },
    {
     "cell_type": "markdown",
     "metadata": {},
     "source": [
      "Looks pretty good! Note the divergences at 5 and 9 - prices like \\$9.99 are reasonably common and expected, but prices like \\$5 or \\$50 somewhat less so. Fascinating"
     ]
    },
    {
     "cell_type": "heading",
     "level": 3,
     "metadata": {},
     "source": [
      "Statistical Tests"
     ]
    },
    {
     "cell_type": "markdown",
     "metadata": {},
     "source": [
      "Now, while we can inuitively see that these distributions are similar, we'd prefer to be able to test that quantitatively. We'll use a [chi-squared test](http://en.wikipedia.org/wiki/Pearson%27s_chi-squared_test) to compare the two. Specifically, we compute the p-value relative to the counts predicted by Benford's Law, which represents, roughly, the probability that the data that we observed was drawn from the Benford's Law distribution.\n",
      "\n",
      "More specifically, we create a fake set of observations distributed according to Benford's Law and equal in magnitude to the set of real observations. The chi-squared test then computes the probability that the two sets of observations, real and fake, were drawn from the same distribution.\n",
      "\n",
      "And the p-value is......."
     ]
    },
    {
     "cell_type": "code",
     "collapsed": false,
     "input": [
      "chi2_score, p_value = chisquare(df['count'], benford_series * df.sum()[0])\n",
      "p_value"
     ],
     "language": "python",
     "metadata": {},
     "outputs": [
      {
       "metadata": {},
       "output_type": "pyout",
       "prompt_number": 11,
       "text": [
        "0.0"
       ]
      }
     ],
     "prompt_number": 12
    },
    {
     "cell_type": "markdown",
     "metadata": {},
     "source": [
      "0.0? What? This means that we can say with a very great amount of certainty that our charge amounts are not distributed according to Benford's Law. Maybe we're making them all up .. don't tell our investors!\n",
      "\n",
      "More interestingly, while the distribution of the first digits of our charges look similar to Benford's Law when we eyeball it, the number of observations is large enough that we can say with confidence that the two distributions are in fact different."
     ]
    },
    {
     "cell_type": "heading",
     "level": 3,
     "metadata": {},
     "source": [
      "Fin"
     ]
    },
    {
     "cell_type": "markdown",
     "metadata": {},
     "source": [
      "I hope this has been a helpful introduction to what you can do with IPython Notebooks and nbviewer. As a recap, we used Impyla to execute queries from within the notebook and get the data that we wanted to inspect. We then used Pandas dataframes to wrangle, inspect, and combine that data with other sources. We used Pandas' built-in plotting helpers (powered by matplotlib) to visualize the data, and used scipy to run statistical tests against it. These are just some of the most common data packages in the Python ecosystem - anything else is potentially fair game as well!\n",
      "\n",
      "Best of all, this notebook is fully reproducible. Anybody should be able to clone the repo, open this notebook, and press \"Run All\" and get the same results - albeit with newer data. This means that anyone can pick up where the original author left off, add other plots, or try to run the same analysis with a modified SQL query. I hope this will lead to more collaboartion on data-driven reports, more rigorous review, and more information disseminated throughout the company. Question the answers!"
     ]
    },
    {
     "cell_type": "code",
     "collapsed": false,
     "input": [],
     "language": "python",
     "metadata": {},
     "outputs": []
    }
   ],
   "metadata": {}
  }
 ]
}
